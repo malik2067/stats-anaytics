{
 "cells": [
  {
   "cell_type": "code",
   "execution_count": 2,
   "metadata": {},
   "outputs": [],
   "source": [
    "import numpy as np\n",
    "import pandas as pd\n",
    "import matplotlib.pyplot as plt\n",
    "import seaborn as sns\n",
    "sns.set()\n",
    "from sklearn.model_selection import train_test_split\n",
    "# and of course the actual regression (machine learning) module\n",
    "from sklearn.linear_model import LinearRegression"
   ]
  },
  {
   "cell_type": "code",
   "execution_count": 3,
   "metadata": {},
   "outputs": [
    {
     "data": {
      "text/html": [
       "<div>\n",
       "<style scoped>\n",
       "    .dataframe tbody tr th:only-of-type {\n",
       "        vertical-align: middle;\n",
       "    }\n",
       "\n",
       "    .dataframe tbody tr th {\n",
       "        vertical-align: top;\n",
       "    }\n",
       "\n",
       "    .dataframe thead th {\n",
       "        text-align: right;\n",
       "    }\n",
       "</style>\n",
       "<table border=\"1\" class=\"dataframe\">\n",
       "  <thead>\n",
       "    <tr style=\"text-align: right;\">\n",
       "      <th></th>\n",
       "      <th>Species</th>\n",
       "      <th>Weight</th>\n",
       "      <th>Length1</th>\n",
       "      <th>Length2</th>\n",
       "      <th>Length3</th>\n",
       "      <th>Height</th>\n",
       "      <th>Width</th>\n",
       "    </tr>\n",
       "  </thead>\n",
       "  <tbody>\n",
       "    <tr>\n",
       "      <th>0</th>\n",
       "      <td>Bream</td>\n",
       "      <td>242.0</td>\n",
       "      <td>23.2</td>\n",
       "      <td>25.4</td>\n",
       "      <td>30.0</td>\n",
       "      <td>11.5200</td>\n",
       "      <td>4.0200</td>\n",
       "    </tr>\n",
       "    <tr>\n",
       "      <th>1</th>\n",
       "      <td>Bream</td>\n",
       "      <td>290.0</td>\n",
       "      <td>24.0</td>\n",
       "      <td>26.3</td>\n",
       "      <td>31.2</td>\n",
       "      <td>12.4800</td>\n",
       "      <td>4.3056</td>\n",
       "    </tr>\n",
       "    <tr>\n",
       "      <th>2</th>\n",
       "      <td>Bream</td>\n",
       "      <td>340.0</td>\n",
       "      <td>23.9</td>\n",
       "      <td>26.5</td>\n",
       "      <td>31.1</td>\n",
       "      <td>12.3778</td>\n",
       "      <td>4.6961</td>\n",
       "    </tr>\n",
       "    <tr>\n",
       "      <th>3</th>\n",
       "      <td>Bream</td>\n",
       "      <td>363.0</td>\n",
       "      <td>26.3</td>\n",
       "      <td>29.0</td>\n",
       "      <td>33.5</td>\n",
       "      <td>12.7300</td>\n",
       "      <td>4.4555</td>\n",
       "    </tr>\n",
       "    <tr>\n",
       "      <th>4</th>\n",
       "      <td>Bream</td>\n",
       "      <td>430.0</td>\n",
       "      <td>26.5</td>\n",
       "      <td>29.0</td>\n",
       "      <td>34.0</td>\n",
       "      <td>12.4440</td>\n",
       "      <td>5.1340</td>\n",
       "    </tr>\n",
       "    <tr>\n",
       "      <th>...</th>\n",
       "      <td>...</td>\n",
       "      <td>...</td>\n",
       "      <td>...</td>\n",
       "      <td>...</td>\n",
       "      <td>...</td>\n",
       "      <td>...</td>\n",
       "      <td>...</td>\n",
       "    </tr>\n",
       "    <tr>\n",
       "      <th>154</th>\n",
       "      <td>Smelt</td>\n",
       "      <td>12.2</td>\n",
       "      <td>11.5</td>\n",
       "      <td>12.2</td>\n",
       "      <td>13.4</td>\n",
       "      <td>2.0904</td>\n",
       "      <td>1.3936</td>\n",
       "    </tr>\n",
       "    <tr>\n",
       "      <th>155</th>\n",
       "      <td>Smelt</td>\n",
       "      <td>13.4</td>\n",
       "      <td>11.7</td>\n",
       "      <td>12.4</td>\n",
       "      <td>13.5</td>\n",
       "      <td>2.4300</td>\n",
       "      <td>1.2690</td>\n",
       "    </tr>\n",
       "    <tr>\n",
       "      <th>156</th>\n",
       "      <td>Smelt</td>\n",
       "      <td>12.2</td>\n",
       "      <td>12.1</td>\n",
       "      <td>13.0</td>\n",
       "      <td>13.8</td>\n",
       "      <td>2.2770</td>\n",
       "      <td>1.2558</td>\n",
       "    </tr>\n",
       "    <tr>\n",
       "      <th>157</th>\n",
       "      <td>Smelt</td>\n",
       "      <td>19.7</td>\n",
       "      <td>13.2</td>\n",
       "      <td>14.3</td>\n",
       "      <td>15.2</td>\n",
       "      <td>2.8728</td>\n",
       "      <td>2.0672</td>\n",
       "    </tr>\n",
       "    <tr>\n",
       "      <th>158</th>\n",
       "      <td>Smelt</td>\n",
       "      <td>19.9</td>\n",
       "      <td>13.8</td>\n",
       "      <td>15.0</td>\n",
       "      <td>16.2</td>\n",
       "      <td>2.9322</td>\n",
       "      <td>1.8792</td>\n",
       "    </tr>\n",
       "  </tbody>\n",
       "</table>\n",
       "<p>159 rows × 7 columns</p>\n",
       "</div>"
      ],
      "text/plain": [
       "    Species  Weight  Length1  Length2  Length3   Height   Width\n",
       "0     Bream   242.0     23.2     25.4     30.0  11.5200  4.0200\n",
       "1     Bream   290.0     24.0     26.3     31.2  12.4800  4.3056\n",
       "2     Bream   340.0     23.9     26.5     31.1  12.3778  4.6961\n",
       "3     Bream   363.0     26.3     29.0     33.5  12.7300  4.4555\n",
       "4     Bream   430.0     26.5     29.0     34.0  12.4440  5.1340\n",
       "..      ...     ...      ...      ...      ...      ...     ...\n",
       "154   Smelt    12.2     11.5     12.2     13.4   2.0904  1.3936\n",
       "155   Smelt    13.4     11.7     12.4     13.5   2.4300  1.2690\n",
       "156   Smelt    12.2     12.1     13.0     13.8   2.2770  1.2558\n",
       "157   Smelt    19.7     13.2     14.3     15.2   2.8728  2.0672\n",
       "158   Smelt    19.9     13.8     15.0     16.2   2.9322  1.8792\n",
       "\n",
       "[159 rows x 7 columns]"
      ]
     },
     "execution_count": 3,
     "metadata": {},
     "output_type": "execute_result"
    }
   ],
   "source": [
    "raw_data = pd.read_csv(\"Fish.csv\")\n",
    "raw_data"
   ]
  },
  {
   "cell_type": "code",
   "execution_count": 4,
   "metadata": {},
   "outputs": [
    {
     "data": {
      "text/plain": [
       "['Bream', 'Roach', 'Whitefish', 'Parkki', 'Perch', 'Pike', 'Smelt']"
      ]
     },
     "execution_count": 4,
     "metadata": {},
     "output_type": "execute_result"
    }
   ],
   "source": [
    "list(set(raw_data.Species))\n",
    "list(raw_data['Species'].unique())"
   ]
  },
  {
   "cell_type": "code",
   "execution_count": 5,
   "metadata": {},
   "outputs": [
    {
     "data": {
      "text/html": [
       "<div>\n",
       "<style scoped>\n",
       "    .dataframe tbody tr th:only-of-type {\n",
       "        vertical-align: middle;\n",
       "    }\n",
       "\n",
       "    .dataframe tbody tr th {\n",
       "        vertical-align: top;\n",
       "    }\n",
       "\n",
       "    .dataframe thead th {\n",
       "        text-align: right;\n",
       "    }\n",
       "</style>\n",
       "<table border=\"1\" class=\"dataframe\">\n",
       "  <thead>\n",
       "    <tr style=\"text-align: right;\">\n",
       "      <th></th>\n",
       "      <th>Species</th>\n",
       "      <th>Weight</th>\n",
       "      <th>Length1</th>\n",
       "      <th>Length2</th>\n",
       "      <th>Length3</th>\n",
       "      <th>Height</th>\n",
       "      <th>Width</th>\n",
       "    </tr>\n",
       "  </thead>\n",
       "  <tbody>\n",
       "    <tr>\n",
       "      <th>0</th>\n",
       "      <td>0</td>\n",
       "      <td>242.0</td>\n",
       "      <td>23.2</td>\n",
       "      <td>25.4</td>\n",
       "      <td>30.0</td>\n",
       "      <td>11.5200</td>\n",
       "      <td>4.0200</td>\n",
       "    </tr>\n",
       "    <tr>\n",
       "      <th>1</th>\n",
       "      <td>0</td>\n",
       "      <td>290.0</td>\n",
       "      <td>24.0</td>\n",
       "      <td>26.3</td>\n",
       "      <td>31.2</td>\n",
       "      <td>12.4800</td>\n",
       "      <td>4.3056</td>\n",
       "    </tr>\n",
       "    <tr>\n",
       "      <th>2</th>\n",
       "      <td>0</td>\n",
       "      <td>340.0</td>\n",
       "      <td>23.9</td>\n",
       "      <td>26.5</td>\n",
       "      <td>31.1</td>\n",
       "      <td>12.3778</td>\n",
       "      <td>4.6961</td>\n",
       "    </tr>\n",
       "    <tr>\n",
       "      <th>3</th>\n",
       "      <td>0</td>\n",
       "      <td>363.0</td>\n",
       "      <td>26.3</td>\n",
       "      <td>29.0</td>\n",
       "      <td>33.5</td>\n",
       "      <td>12.7300</td>\n",
       "      <td>4.4555</td>\n",
       "    </tr>\n",
       "    <tr>\n",
       "      <th>4</th>\n",
       "      <td>0</td>\n",
       "      <td>430.0</td>\n",
       "      <td>26.5</td>\n",
       "      <td>29.0</td>\n",
       "      <td>34.0</td>\n",
       "      <td>12.4440</td>\n",
       "      <td>5.1340</td>\n",
       "    </tr>\n",
       "    <tr>\n",
       "      <th>...</th>\n",
       "      <td>...</td>\n",
       "      <td>...</td>\n",
       "      <td>...</td>\n",
       "      <td>...</td>\n",
       "      <td>...</td>\n",
       "      <td>...</td>\n",
       "      <td>...</td>\n",
       "    </tr>\n",
       "    <tr>\n",
       "      <th>154</th>\n",
       "      <td>6</td>\n",
       "      <td>12.2</td>\n",
       "      <td>11.5</td>\n",
       "      <td>12.2</td>\n",
       "      <td>13.4</td>\n",
       "      <td>2.0904</td>\n",
       "      <td>1.3936</td>\n",
       "    </tr>\n",
       "    <tr>\n",
       "      <th>155</th>\n",
       "      <td>6</td>\n",
       "      <td>13.4</td>\n",
       "      <td>11.7</td>\n",
       "      <td>12.4</td>\n",
       "      <td>13.5</td>\n",
       "      <td>2.4300</td>\n",
       "      <td>1.2690</td>\n",
       "    </tr>\n",
       "    <tr>\n",
       "      <th>156</th>\n",
       "      <td>6</td>\n",
       "      <td>12.2</td>\n",
       "      <td>12.1</td>\n",
       "      <td>13.0</td>\n",
       "      <td>13.8</td>\n",
       "      <td>2.2770</td>\n",
       "      <td>1.2558</td>\n",
       "    </tr>\n",
       "    <tr>\n",
       "      <th>157</th>\n",
       "      <td>6</td>\n",
       "      <td>19.7</td>\n",
       "      <td>13.2</td>\n",
       "      <td>14.3</td>\n",
       "      <td>15.2</td>\n",
       "      <td>2.8728</td>\n",
       "      <td>2.0672</td>\n",
       "    </tr>\n",
       "    <tr>\n",
       "      <th>158</th>\n",
       "      <td>6</td>\n",
       "      <td>19.9</td>\n",
       "      <td>13.8</td>\n",
       "      <td>15.0</td>\n",
       "      <td>16.2</td>\n",
       "      <td>2.9322</td>\n",
       "      <td>1.8792</td>\n",
       "    </tr>\n",
       "  </tbody>\n",
       "</table>\n",
       "<p>159 rows × 7 columns</p>\n",
       "</div>"
      ],
      "text/plain": [
       "     Species  Weight  Length1  Length2  Length3   Height   Width\n",
       "0          0   242.0     23.2     25.4     30.0  11.5200  4.0200\n",
       "1          0   290.0     24.0     26.3     31.2  12.4800  4.3056\n",
       "2          0   340.0     23.9     26.5     31.1  12.3778  4.6961\n",
       "3          0   363.0     26.3     29.0     33.5  12.7300  4.4555\n",
       "4          0   430.0     26.5     29.0     34.0  12.4440  5.1340\n",
       "..       ...     ...      ...      ...      ...      ...     ...\n",
       "154        6    12.2     11.5     12.2     13.4   2.0904  1.3936\n",
       "155        6    13.4     11.7     12.4     13.5   2.4300  1.2690\n",
       "156        6    12.2     12.1     13.0     13.8   2.2770  1.2558\n",
       "157        6    19.7     13.2     14.3     15.2   2.8728  2.0672\n",
       "158        6    19.9     13.8     15.0     16.2   2.9322  1.8792\n",
       "\n",
       "[159 rows x 7 columns]"
      ]
     },
     "execution_count": 5,
     "metadata": {},
     "output_type": "execute_result"
    }
   ],
   "source": [
    "raw_data['Species'] = raw_data['Species'].map({'Bream': 0, 'Roach': 1,'Whitefish':2,'Parkki':3,'Perch':4,'Pike':5,'Smelt':6})\n",
    "raw_data"
   ]
  },
  {
   "cell_type": "code",
   "execution_count": 6,
   "metadata": {},
   "outputs": [
    {
     "data": {
      "text/plain": [
       "<AxesSubplot:xlabel='Length1'>"
      ]
     },
     "execution_count": 6,
     "metadata": {},
     "output_type": "execute_result"
    },
    {
     "data": {
      "image/png": "[encoded data removed]",
      "text/plain": [
       "<Figure size 432x288 with 1 Axes>"
      ]
     },
     "metadata": {},
     "output_type": "display_data"
    }
   ],
   "source": [
    "sns.distplot(raw_data[\"Length1\"])"
   ]
  },
  {
   "cell_type": "code",
   "execution_count": 7,
   "metadata": {},
   "outputs": [
    {
     "data": {
      "text/plain": [
       "<AxesSubplot:xlabel='Length1'>"
      ]
     },
     "execution_count": 7,
     "metadata": {},
     "output_type": "execute_result"
    },
    {
     "data": {
      "image/png": "[encoded data removed]",
      "text/plain": [
       "<Figure size 432x288 with 1 Axes>"
      ]
     },
     "metadata": {},
     "output_type": "display_data"
    }
   ],
   "source": [
    "q = raw_data['Length1'].quantile(0.99)\n",
    "data_1 = raw_data[ raw_data['Length1']<q]\n",
    "sns.distplot(data_1[\"Length1\"])"
   ]
  },
  {
   "cell_type": "code",
   "execution_count": 8,
   "metadata": {},
   "outputs": [
    {
     "data": {
      "text/plain": [
       "<AxesSubplot:xlabel='Length2'>"
      ]
     },
     "execution_count": 8,
     "metadata": {},
     "output_type": "execute_result"
    },
    {
     "data": {
      "image/png": "[encoded data removed]",
      "text/plain": [
       "<Figure size 432x288 with 1 Axes>"
      ]
     },
     "metadata": {},
     "output_type": "display_data"
    }
   ],
   "source": [
    "sns.distplot(data_1[\"Length2\"])"
   ]
  },
  {
   "cell_type": "code",
   "execution_count": 9,
   "metadata": {},
   "outputs": [
    {
     "data": {
      "text/plain": [
       "<AxesSubplot:xlabel='Length2'>"
      ]
     },
     "execution_count": 9,
     "metadata": {},
     "output_type": "execute_result"
    },
    {
     "data": {
      "image/png": "[encoded data removed]",
      "text/plain": [
       "<Figure size 432x288 with 1 Axes>"
      ]
     },
     "metadata": {},
     "output_type": "display_data"
    }
   ],
   "source": [
    "q = data_1['Length2'].quantile(0.99)\n",
    "data_2 = data_1[data_1['Length2']<q]\n",
    "sns.distplot(data_2[\"Length2\"])"
   ]
  },
  {
   "cell_type": "code",
   "execution_count": 10,
   "metadata": {},
   "outputs": [
    {
     "data": {
      "text/plain": [
       "<AxesSubplot:xlabel='Length3'>"
      ]
     },
     "execution_count": 10,
     "metadata": {},
     "output_type": "execute_result"
    },
    {
     "data": {
      "image/png": "[encoded data removed]",
      "text/plain": [
       "<Figure size 432x288 with 1 Axes>"
      ]
     },
     "metadata": {},
     "output_type": "display_data"
    }
   ],
   "source": [
    "q = data_2['Length3'].quantile(0.99)\n",
    "data_3 = data_2[data_2['Length3']<q]\n",
    "sns.distplot(data_3[\"Length3\"])"
   ]
  },
  {
   "cell_type": "code",
   "execution_count": 11,
   "metadata": {},
   "outputs": [
    {
     "data": {
      "text/plain": [
       "<AxesSubplot:xlabel='Height'>"
      ]
     },
     "execution_count": 11,
     "metadata": {},
     "output_type": "execute_result"
    },
    {
     "data": {
      "image/png": "[encoded data removed]",
      "text/plain": [
       "<Figure size 432x288 with 1 Axes>"
      ]
     },
     "metadata": {},
     "output_type": "display_data"
    }
   ],
   "source": [
    "sns.distplot(data_3[\"Height\"])"
   ]
  },
  {
   "cell_type": "code",
   "execution_count": 12,
   "metadata": {},
   "outputs": [
    {
     "data": {
      "text/plain": [
       "<AxesSubplot:xlabel='Height'>"
      ]
     },
     "execution_count": 12,
     "metadata": {},
     "output_type": "execute_result"
    },
    {
     "data": {
      "image/png": "[encoded data removed]",
      "text/plain": [
       "<Figure size 432x288 with 1 Axes>"
      ]
     },
     "metadata": {},
     "output_type": "display_data"
    }
   ],
   "source": [
    "q = data_3['Height'].quantile(0.99)\n",
    "data_4 = data_3[data_3['Height']<q]\n",
    "sns.distplot(data_4[\"Height\"])"
   ]
  },
  {
   "cell_type": "code",
   "execution_count": 13,
   "metadata": {},
   "outputs": [
    {
     "data": {
      "text/plain": [
       "<AxesSubplot:xlabel='Weight'>"
      ]
     },
     "execution_count": 13,
     "metadata": {},
     "output_type": "execute_result"
    },
    {
     "data": {
      "image/png": "[encoded data removed]",
      "text/plain": [
       "<Figure size 432x288 with 1 Axes>"
      ]
     },
     "metadata": {},
     "output_type": "display_data"
    }
   ],
   "source": [
    "q = data_4['Weight'].quantile(0.99)\n",
    "data_5 = data_4[data_4['Weight']<q]\n",
    "sns.distplot(data_5[\"Weight\"])"
   ]
  },
  {
   "cell_type": "code",
   "execution_count": 14,
   "metadata": {},
   "outputs": [
    {
     "data": {
      "text/plain": [
       "<AxesSubplot:xlabel='Width'>"
      ]
     },
     "execution_count": 14,
     "metadata": {},
     "output_type": "execute_result"
    },
    {
     "data": {
      "image/png": "[encoded data removed]",
      "text/plain": [
       "<Figure size 432x288 with 1 Axes>"
      ]
     },
     "metadata": {},
     "output_type": "display_data"
    }
   ],
   "source": [
    "q = data_5['Width'].quantile(0.99)\n",
    "data_6 = data_5[data_5['Width']<q]\n",
    "sns.distplot(data_6[\"Width\"])"
   ]
  },
  {
   "cell_type": "code",
   "execution_count": 15,
   "metadata": {},
   "outputs": [
    {
     "data": {
      "image/png": "[encoded data removed]",
      "text/plain": [
       "<Figure size 1080x216 with 3 Axes>"
      ]
     },
     "metadata": {},
     "output_type": "display_data"
    }
   ],
   "source": [
    "f, (ax1, ax2, ax3,) = plt.subplots(1, 3, sharey=True, figsize =(15,3)) #sharey -> share 'G3' as y\n",
    "ax1.scatter(data_6['Length1'],data_6['Length2'])\n",
    "ax1.set_title('age and bmi')\n",
    "ax2.scatter(data_6['Length1'],data_6['Length3'])\n",
    "ax2.set_title('children and bmi')\n",
    "ax3.scatter(data_6['Height'],data_6['Width'])\n",
    "ax3.set_title('height and width')\n",
    "plt.show()"
   ]
  },
  {
   "cell_type": "code",
   "execution_count": 16,
   "metadata": {},
   "outputs": [],
   "source": [
    "targets = data_6['Weight']\n",
    "inputs = inputs = data_6.drop(['Weight'],axis=1)"
   ]
  },
  {
   "cell_type": "code",
   "execution_count": null,
   "metadata": {},
   "outputs": [],
   "source": []
  },
  {
   "cell_type": "code",
   "execution_count": 17,
   "metadata": {},
   "outputs": [
    {
     "data": {
      "text/plain": [
       "StandardScaler()"
      ]
     },
     "execution_count": 17,
     "metadata": {},
     "output_type": "execute_result"
    }
   ],
   "source": [
    "from sklearn.preprocessing import StandardScaler\n",
    "scaler = StandardScaler()\n",
    "scaler.fit(inputs)"
   ]
  },
  {
   "cell_type": "code",
   "execution_count": 18,
   "metadata": {},
   "outputs": [
    {
     "data": {
      "text/plain": [
       "array([[-1.38156739e+00, -1.69642507e-01, -1.41743007e-01,\n",
       "         6.02197183e-02,  6.56556291e-01, -1.24133468e-01],\n",
       "       [-1.38156739e+00, -7.31288936e-02, -4.08490140e-02,\n",
       "         1.81629323e-01,  8.82243852e-01,  5.61243674e-02],\n",
       "       [-1.38156739e+00, -8.51930953e-02, -1.84281266e-02,\n",
       "         1.71511856e-01,  8.58217531e-01,  3.02590350e-01],\n",
       "       [-1.38156739e+00,  2.04347745e-01,  2.61832966e-01,\n",
       "         4.14331065e-01,  9.41016655e-01,  1.50734485e-01],\n",
       "       [-1.38156739e+00,  2.28476148e-01,  2.61832966e-01,\n",
       "         4.64918401e-01,  8.73780569e-01,  5.78973074e-01],\n",
       "       [-1.38156739e+00,  2.64668753e-01,  3.40306071e-01,\n",
       "         5.35740670e-01,  1.14611023e+00,  4.48576475e-01],\n",
       "       [-1.38156739e+00,  2.64668753e-01,  3.40306071e-01,\n",
       "         5.15505736e-01,  1.28178136e+00,  6.70174955e-01],\n",
       "       [-1.38156739e+00,  3.61182366e-01,  3.73937402e-01,\n",
       "         5.66093071e-01,  9.26911182e-01,  2.98740305e-01],\n",
       "       [-1.38156739e+00,  3.61182366e-01,  3.73937402e-01,\n",
       "         5.76210538e-01,  1.24073444e+00,  3.95811926e-01],\n",
       "       [-1.38156739e+00,  4.69760181e-01,  4.52410508e-01,\n",
       "         6.87502676e-01,  1.29285416e+00,  4.68773431e-01],\n",
       "       [-1.38156739e+00,  4.57695979e-01,  4.86041839e-01,\n",
       "         6.87502676e-01,  1.30136446e+00,  5.60164658e-01],\n",
       "       [-1.38156739e+00,  4.93888584e-01,  4.86041839e-01,\n",
       "         6.87502676e-01,  1.32689537e+00,  3.77382204e-01],\n",
       "       [-1.38156739e+00,  5.42145391e-01,  5.42094058e-01,\n",
       "         7.07737610e-01,  1.18297253e+00,  9.55084322e-02],\n",
       "       [-1.38156739e+00,  5.90402198e-01,  5.98146276e-01,\n",
       "         7.98794814e-01,  1.21910605e+00,  5.40346395e-01],\n",
       "       [-1.38156739e+00,  5.78337996e-01,  5.98146276e-01,\n",
       "         7.88677347e-01,  1.46395354e+00,  6.02199574e-01],\n",
       "       [-1.38156739e+00,  5.78337996e-01,  5.98146276e-01,\n",
       "         7.88677347e-01,  1.57764365e+00,  8.60468152e-01],\n",
       "       [-1.38156739e+00,  6.98980013e-01,  7.10250713e-01,\n",
       "         8.99969484e-01,  1.44185497e+00,  6.74529923e-01],\n",
       "       [-1.38156739e+00,  6.98980013e-01,  7.10250713e-01,\n",
       "         9.20204418e-01,  1.46009805e+00,  6.19051409e-01],\n",
       "       [-1.38156739e+00,  7.59301021e-01,  7.66302931e-01,\n",
       "         9.30321885e-01,  1.62348644e+00,  5.78846843e-01],\n",
       "       [-1.38156739e+00,  7.71365222e-01,  7.66302931e-01,\n",
       "         9.40439353e-01,  1.35096871e+00,  9.53626613e-01],\n",
       "       [-1.38156739e+00,  8.07557827e-01,  8.22355150e-01,\n",
       "         1.02137909e+00,  1.50488292e+00,  8.53841026e-01],\n",
       "       [-1.38156739e+00,  8.19622029e-01,  8.22355150e-01,\n",
       "         9.91026688e-01,  1.70826033e+00,  7.28178089e-01],\n",
       "       [-1.38156739e+00,  8.31686231e-01,  8.78407368e-01,\n",
       "         1.04161402e+00,  1.59755588e+00,  6.71184802e-01],\n",
       "       [-1.38156739e+00,  8.67878836e-01,  9.34459587e-01,\n",
       "         1.13267123e+00,  1.58483744e+00,  1.20798203e+00],\n",
       "       [-1.38156739e+00,  8.79943037e-01,  9.34459587e-01,\n",
       "         1.12255376e+00,  1.76630435e+00,  8.66148546e-01],\n",
       "       [-1.38156739e+00,  8.67878836e-01,  9.34459587e-01,\n",
       "         1.16302363e+00,  1.79439775e+00,  1.15913064e+00],\n",
       "       [-1.38156739e+00,  8.92007239e-01,  9.34459587e-01,\n",
       "         1.13267123e+00,  1.79482091e+00,  1.18235714e+00],\n",
       "       [-1.38156739e+00,  9.76456651e-01,  1.04656402e+00,\n",
       "         1.22372843e+00,  1.83130707e+00,  1.03182670e+00],\n",
       "       [-1.38156739e+00,  9.88520852e-01,  1.04656402e+00,\n",
       "         1.23384590e+00,  1.91890205e+00,  1.25077433e+00],\n",
       "       [-1.38156739e+00,  1.25393329e+00,  1.32682512e+00,\n",
       "         1.48678257e+00,  2.18862220e+00,  1.31887595e+00],\n",
       "       [-1.38156739e+00,  1.25393329e+00,  1.32682512e+00,\n",
       "         1.47666511e+00,  2.19969499e+00,  1.30985043e+00],\n",
       "       [-1.38156739e+00,  1.54347413e+00,  1.60708621e+00,\n",
       "         1.66889698e+00,  2.32932429e+00,  1.59721525e+00],\n",
       "       [-1.38156739e+00,  1.61585934e+00,  1.60708621e+00,\n",
       "         1.72960178e+00,  2.09143549e+00,  1.35939609e+00],\n",
       "       [-8.85968280e-01, -1.41225528e+00, -1.40852314e+00,\n",
       "        -1.33599074e+00, -1.07672418e+00, -1.22991683e+00],\n",
       "       [-8.85968280e-01, -9.77944018e-01, -9.48894953e-01,\n",
       "        -9.21174587e-01, -8.06110691e-01, -8.80446366e-01],\n",
       "       [-8.85968280e-01, -8.57302001e-01, -8.81632290e-01,\n",
       "        -8.30117383e-01, -7.40919899e-01, -8.28249857e-01],\n",
       "       [-8.85968280e-01, -7.72852590e-01, -7.69527854e-01,\n",
       "        -7.28942712e-01, -7.31281159e-01, -6.57711807e-01],\n",
       "       [-8.85968280e-01, -7.24595783e-01, -7.47106966e-01,\n",
       "        -7.28942712e-01, -5.90367488e-01, -4.05502315e-01],\n",
       "       [-8.85968280e-01, -6.76338977e-01, -6.91054748e-01,\n",
       "        -6.68237910e-01, -5.29431846e-01, -5.45997393e-01],\n",
       "       [-8.85968280e-01, -6.64274775e-01, -6.57423417e-01,\n",
       "        -6.37885509e-01, -6.01722393e-01, -5.18163462e-01],\n",
       "       [-8.85968280e-01, -6.28082170e-01, -6.35002529e-01,\n",
       "        -5.77180706e-01, -6.14205736e-01, -5.82162567e-01],\n",
       "       [-8.85968280e-01, -5.07440153e-01, -5.22898093e-01,\n",
       "        -4.76006036e-01, -6.87107521e-01, -2.91768205e-01],\n",
       "       [-8.85968280e-01, -4.95375952e-01, -5.22898093e-01,\n",
       "        -5.16475904e-01, -4.92122871e-01, -4.22164804e-01],\n",
       "       [-8.85968280e-01, -4.95375952e-01, -4.66845874e-01,\n",
       "        -4.15301233e-01, -3.98203932e-01, -2.50175098e-01],\n",
       "       [-8.85968280e-01, -4.35054943e-01, -4.66845874e-01,\n",
       "        -4.45653635e-01, -5.11847023e-01, -5.62786113e-01],\n",
       "       [-8.85968280e-01, -4.22990742e-01, -4.66845874e-01,\n",
       "        -4.45653635e-01, -5.47110705e-01, -2.62987542e-01],\n",
       "       [-8.85968280e-01, -3.14412927e-01, -2.98689219e-01,\n",
       "        -2.23069359e-01, -2.80423236e-01, -2.40770890e-01],\n",
       "       [-8.85968280e-01, -3.14412927e-01, -3.65951881e-01,\n",
       "        -2.73656695e-01, -4.25968204e-01, -3.69526487e-01],\n",
       "       [-8.85968280e-01, -3.02348725e-01, -3.54741437e-01,\n",
       "        -2.63539228e-01, -3.12771787e-01, -5.64736640e-02],\n",
       "       [-8.85968280e-01, -1.21385700e-01, -1.64163895e-01,\n",
       "        -1.52247090e-01, -3.85697080e-01, -1.96085125e-01],\n",
       "       [-8.85968280e-01, -7.31288936e-02, -7.44803450e-02,\n",
       "        -2.07200182e-02,  3.51632042e-02,  1.76801181e-01],\n",
       "       [-8.85968280e-01,  4.75131230e-02,  3.76240918e-02,\n",
       "         1.20924521e-01, -3.74329615e-02,  3.51504853e-01],\n",
       "       [-8.85968280e-01,  5.90402198e-01,  5.64514945e-01,\n",
       "         5.66093071e-01,  1.78145678e-01,  7.18458303e-01],\n",
       "       [-3.90369166e-01, -1.21385700e-01, -7.44803450e-02,\n",
       "        -7.13073535e-02, -8.15360725e-02,  1.95173841e-02],\n",
       "       [-3.90369166e-01, -6.10646920e-02, -1.84281266e-02,\n",
       "        -1.06025511e-02, -1.36782507e-01,  2.00854235e-02],\n",
       "       [-3.90369166e-01,  1.19898333e-01,  1.49728529e-01,\n",
       "         1.41159455e-01,  1.19361926e-02,  2.93438604e-01],\n",
       "       [-3.90369166e-01,  4.69760181e-01,  4.86041839e-01,\n",
       "         4.64918401e-01,  4.74125512e-01,  1.48026225e+00],\n",
       "       [-3.90369166e-01,  1.09709867e+00,  1.09140580e+00,\n",
       "         1.03149656e+00,  7.13260291e-01,  1.48758365e+00],\n",
       "       [-3.90369166e-01,  1.53140993e+00,  1.49498177e+00,\n",
       "         1.42607777e+00,  8.52622360e-01,  1.45690952e+00],\n",
       "       [ 1.05229949e-01, -1.33987007e+00, -1.34126048e+00,\n",
       "        -1.30563833e+00, -4.41907388e-01, -1.19299426e+00],\n",
       "       [ 1.05229949e-01, -1.24335645e+00, -1.25157693e+00,\n",
       "        -1.21458113e+00, -5.05452543e-01, -1.20075747e+00],\n",
       "       [ 1.05229949e-01, -1.00207242e+00, -1.00494717e+00,\n",
       "        -9.71761922e-01, -3.10797021e-01, -9.74299097e-01],\n",
       "       [ 1.05229949e-01, -8.57302001e-01, -8.59211403e-01,\n",
       "        -8.19999916e-01, -7.87619962e-02, -8.19603035e-01],\n",
       "       [ 1.05229949e-01, -7.48724186e-01, -7.47106966e-01,\n",
       "        -7.08707778e-01,  3.89246635e-02, -5.83109300e-01],\n",
       "       [ 1.05229949e-01, -6.76338977e-01, -6.68633860e-01,\n",
       "        -6.27768042e-01, -4.45797343e-02, -5.82099452e-01],\n",
       "       [ 1.05229949e-01, -6.76338977e-01, -6.68633860e-01,\n",
       "        -6.27768042e-01,  1.57222560e-01, -5.08885485e-01],\n",
       "       [ 1.05229949e-01, -5.79825363e-01, -5.78950311e-01,\n",
       "        -5.36710838e-01,  2.37247608e-01, -6.68757018e-01],\n",
       "       [ 1.05229949e-01, -4.10926540e-01, -4.10793656e-01,\n",
       "        -3.64713898e-01,  3.80512192e-01, -3.49077069e-01],\n",
       "       [ 1.05229949e-01, -1.93770910e-01, -1.86584782e-01,\n",
       "        -1.42129623e-01,  5.54996888e-01, -4.58702620e-02],\n",
       "       [ 1.05229949e-01, -7.31288936e-02, -7.44803450e-02,\n",
       "        -4.09549523e-02,  6.20822427e-01,  1.09336776e-02],\n",
       "       [ 6.00829064e-01, -2.06372217e+00, -2.04751843e+00,\n",
       "        -2.08468330e+00, -1.55518181e+00, -1.77271003e+00],\n",
       "       [ 6.00829064e-01, -1.46051208e+00, -1.45336492e+00,\n",
       "        -1.48775274e+00, -1.22229266e+00, -1.39957126e+00],\n",
       "       [ 6.00829064e-01, -1.30367746e+00, -1.30762915e+00,\n",
       "        -1.35622567e+00, -1.15270566e+00, -1.12640742e+00],\n",
       "       [ 6.00829064e-01, -1.15890704e+00, -1.17310383e+00,\n",
       "        -1.23481607e+00, -9.72061576e-01, -1.00042891e+00],\n",
       "       [ 6.00829064e-01, -1.07445763e+00, -1.03857850e+00,\n",
       "        -1.10328899e+00, -9.73095978e-01, -8.04834011e-01],\n",
       "       [ 6.00829064e-01, -1.01413662e+00, -9.71315840e-01,\n",
       "        -1.03246672e+00, -8.23954114e-01, -5.64932039e-01],\n",
       "       [ 6.00829064e-01, -9.41751413e-01, -8.92842734e-01,\n",
       "        -1.01223179e+00, -8.29408230e-01, -6.90026937e-01],\n",
       "       [ 6.00829064e-01, -8.93494606e-01, -8.59211403e-01,\n",
       "        -9.31292054e-01, -7.26767408e-01, -7.36227475e-01],\n",
       "       [ 6.00829064e-01, -8.21109396e-01, -7.91948741e-01,\n",
       "        -8.70587251e-01, -8.43889849e-01, -7.44684950e-01],\n",
       "       [ 6.00829064e-01, -7.72852590e-01, -7.47106966e-01,\n",
       "        -8.50352317e-01, -8.56960920e-01, -9.11814764e-01],\n",
       "       [ 6.00829064e-01, -6.76338977e-01, -6.35002529e-01,\n",
       "        -6.98590311e-01, -7.13437736e-01, -4.17620489e-01],\n",
       "       [ 6.00829064e-01, -6.76338977e-01, -6.35002529e-01,\n",
       "        -6.98590311e-01, -6.60542214e-01, -5.73831323e-01],\n",
       "       [ 6.00829064e-01, -6.76338977e-01, -6.35002529e-01,\n",
       "        -6.98590311e-01, -7.13437736e-01, -3.46615565e-01],\n",
       "       [ 6.00829064e-01, -6.40146372e-01, -6.01371198e-01,\n",
       "        -6.68237910e-01, -5.50872164e-01, -4.30874742e-01],\n",
       "       [ 6.00829064e-01, -5.55696960e-01, -5.22898093e-01,\n",
       "        -5.97415641e-01, -6.15287156e-01, -5.10715835e-01],\n",
       "       [ 6.00829064e-01, -5.55696960e-01, -5.22898093e-01,\n",
       "        -5.97415641e-01, -7.25780025e-01, -4.36555136e-01],\n",
       "       [ 6.00829064e-01, -5.55696960e-01, -5.22898093e-01,\n",
       "        -5.97415641e-01, -6.15287156e-01, -4.36555136e-01],\n",
       "       [ 6.00829064e-01, -5.55696960e-01, -5.22898093e-01,\n",
       "        -5.97415641e-01, -6.70533590e-01, -4.36555136e-01],\n",
       "       [ 6.00829064e-01, -5.55696960e-01, -5.22898093e-01,\n",
       "        -5.97415641e-01, -7.53403242e-01, -1.39912340e-01],\n",
       "       [ 6.00829064e-01, -4.95375952e-01, -4.66845874e-01,\n",
       "        -5.46828305e-01, -6.75000323e-01, -3.74070802e-01],\n",
       "       [ 6.00829064e-01, -4.95375952e-01, -4.66845874e-01,\n",
       "        -5.46828305e-01, -4.54954951e-01, -3.74070802e-01],\n",
       "       [ 6.00829064e-01, -4.71247548e-01, -4.44424987e-01,\n",
       "        -5.26593371e-01, -6.52149458e-01, -3.70283873e-01],\n",
       "       [ 6.00829064e-01, -4.35054943e-01, -4.10793656e-01,\n",
       "        -4.96240970e-01, -8.24870970e-01, -3.72808492e-01],\n",
       "       [ 6.00829064e-01, -3.74733935e-01, -3.54741437e-01,\n",
       "        -4.45653635e-01, -5.76497106e-01, -3.10324159e-01],\n",
       "       [ 6.00829064e-01, -3.14412927e-01, -2.98689219e-01,\n",
       "        -3.95066299e-01, -3.37174254e-01, -3.11586468e-01],\n",
       "       [ 6.00829064e-01, -3.14412927e-01, -2.98689219e-01,\n",
       "        -3.95066299e-01, -5.52987985e-01, -2.47208670e-01],\n",
       "       [ 6.00829064e-01, -2.42027717e-01, -2.31426557e-01,\n",
       "        -3.24244030e-01, -4.68731296e-01, -3.21110855e-02],\n",
       "       [ 6.00829064e-01, -1.93770910e-01, -1.86584782e-01,\n",
       "        -2.93891629e-01, -5.37824602e-01, -3.36517086e-01],\n",
       "       [ 6.00829064e-01, -1.33449902e-01, -1.19322120e-01,\n",
       "        -2.43304293e-01, -5.09261020e-01,  1.40894521e-02],\n",
       "       [ 6.00829064e-01,  4.75131230e-02, -1.84281266e-02,\n",
       "        -1.42129623e-01, -3.66560656e-01, -4.58702620e-02],\n",
       "       [ 6.00829064e-01,  7.16415263e-02,  7.12554229e-02,\n",
       "        -7.13073535e-02, -9.50303080e-02,  5.81055885e-01],\n",
       "       [ 6.00829064e-01,  9.57699296e-02,  9.36763103e-02,\n",
       "        -5.10724193e-02, -3.66748729e-01,  7.46803210e-02],\n",
       "       [ 6.00829064e-01,  9.57699296e-02,  9.36763103e-02,\n",
       "        -5.10724193e-02, -3.93925272e-01,  7.46803210e-02],\n",
       "       [ 6.00829064e-01,  9.57699296e-02,  9.36763103e-02,\n",
       "        -5.10724193e-02, -3.39572185e-01,  2.20603330e-01],\n",
       "       [ 6.00829064e-01,  1.56090938e-01,  1.49728529e-01,\n",
       "        -4.85084037e-04, -2.13187150e-01, -7.87473793e-03],\n",
       "       [ 6.00829064e-01,  2.76732954e-01,  2.28201634e-01,\n",
       "         7.03371854e-02, -2.68480603e-01,  2.64279248e-01],\n",
       "       [ 6.00829064e-01,  3.85310769e-01,  3.73937402e-01,\n",
       "         2.22099191e-01, -2.61333830e-01,  3.50242544e-01],\n",
       "       [ 6.00829064e-01,  7.11044214e-01,  6.87829826e-01,\n",
       "         4.64918401e-01,  3.06270388e-01,  1.13691399e+00],\n",
       "       [ 6.00829064e-01,  8.92007239e-01,  8.78407368e-01,\n",
       "         7.17855077e-01,  3.59518547e-01,  1.37012572e+00],\n",
       "       [ 6.00829064e-01,  1.13329127e+00,  1.10261624e+00,\n",
       "         9.70791754e-01,  5.06333007e-01,  1.67087102e+00],\n",
       "       [ 6.00829064e-01,  1.13329127e+00,  1.04656402e+00,\n",
       "         8.99969484e-01,  4.42411707e-01,  1.59311274e+00],\n",
       "       [ 6.00829064e-01,  1.19361228e+00,  1.15866846e+00,\n",
       "         1.01126162e+00,  4.95518812e-01,  1.29255679e+00],\n",
       "       [ 6.00829064e-01,  1.20567648e+00,  1.15866846e+00,\n",
       "         1.00114415e+00,  4.33619296e-01,  1.35693458e+00],\n",
       "       [ 6.00829064e-01,  1.43489631e+00,  1.38287733e+00,\n",
       "         1.21361096e+00,  5.66422321e-01,  2.06811991e+00],\n",
       "       [ 6.00829064e-01,  1.43489631e+00,  1.38287733e+00,\n",
       "         1.21361096e+00,  5.66422321e-01,  1.12744667e+00],\n",
       "       [ 6.00829064e-01,  1.44696052e+00,  1.38287733e+00,\n",
       "         1.20349350e+00,  8.70794910e-01,  1.97849592e+00],\n",
       "       [ 6.00829064e-01,  1.48315312e+00,  1.49498177e+00,\n",
       "         1.30466817e+00,  7.52614559e-01,  1.82386297e+00],\n",
       "       [ 6.00829064e-01,  1.49521732e+00,  1.49498177e+00,\n",
       "         1.32490310e+00,  7.05925445e-01,  1.89871794e+00],\n",
       "       [ 6.00829064e-01,  1.49521732e+00,  1.49498177e+00,\n",
       "         1.31478563e+00,  8.58922804e-01,  2.04855411e+00],\n",
       "       [ 6.00829064e-01,  1.50728152e+00,  1.49498177e+00,\n",
       "         1.32490310e+00,  5.66046175e-01,  1.52318078e+00],\n",
       "       [ 6.00829064e-01,  1.83301497e+00,  1.83129508e+00,\n",
       "         1.59807471e+00,  7.53601942e-01,  1.93166422e+00],\n",
       "       [ 6.00829064e-01,  1.98984959e+00,  1.94339952e+00,\n",
       "         1.73971925e+00,  8.84312655e-01,  2.13275017e+00],\n",
       "       [ 1.09642818e+00,  6.50723206e-01,  6.31777607e-01,\n",
       "         5.45858137e-01, -7.42706592e-01, -5.30849675e-01],\n",
       "       [ 1.09642818e+00,  8.55814634e-01,  8.22355150e-01,\n",
       "         8.49382149e-01, -7.09840841e-01, -3.70340936e-02],\n",
       "       [ 1.09642818e+00,  9.76456651e-01,  9.34459587e-01,\n",
       "         9.50556820e-01, -6.56098990e-01,  1.05859372e-01],\n",
       "       [ 1.09642818e+00,  1.22980489e+00,  1.19229979e+00,\n",
       "         1.05173149e+00, -5.73346884e-01, -1.24259699e-01],\n",
       "       [ 1.09642818e+00,  1.31425430e+00,  1.27077290e+00,\n",
       "         1.12255376e+00, -3.37879528e-01,  2.27104226e-01],\n",
       "       [ 1.09642818e+00,  1.37457531e+00,  1.32682512e+00,\n",
       "         1.17314109e+00, -5.48051070e-01, -1.51273128e-01],\n",
       "       [ 1.09642818e+00,  1.85714337e+00,  1.77524286e+00,\n",
       "         1.62842711e+00, -3.40230440e-01,  6.67908849e-02],\n",
       "       [ 1.09642818e+00,  1.85714337e+00,  1.77524286e+00,\n",
       "         1.62842711e+00, -4.47196941e-01,  1.52943527e-01],\n",
       "       [ 1.09642818e+00,  1.86920757e+00,  1.83129508e+00,\n",
       "         1.65877951e+00, -2.21274288e-01,  5.76195992e-01],\n",
       "       [ 1.09642818e+00,  2.09842740e+00,  2.05550396e+00,\n",
       "         1.88136379e+00, -4.15459627e-01,  4.28758211e-01],\n",
       "       [ 1.59202729e+00, -1.84656654e+00, -1.89057222e+00,\n",
       "        -1.88233396e+00, -1.64291785e+00, -2.00017825e+00],\n",
       "       [ 1.59202729e+00, -1.76211713e+00, -1.81209912e+00,\n",
       "        -1.80139422e+00, -1.58809458e+00, -1.92923644e+00],\n",
       "       [ 1.59202729e+00, -1.75005292e+00, -1.80088867e+00,\n",
       "        -1.80139422e+00, -1.64536280e+00, -1.93655783e+00],\n",
       "       [ 1.59202729e+00, -1.71386032e+00, -1.75604690e+00,\n",
       "        -1.76092435e+00, -1.53543415e+00, -1.79038236e+00],\n",
       "       [ 1.59202729e+00, -1.67766771e+00, -1.73362601e+00,\n",
       "        -1.72045448e+00, -1.56195244e+00, -1.85526509e+00],\n",
       "       [ 1.59202729e+00, -1.66560351e+00, -1.72241557e+00,\n",
       "        -1.70021955e+00, -1.58663702e+00, -1.85021585e+00],\n",
       "       [ 1.59202729e+00, -1.60528250e+00, -1.66636335e+00,\n",
       "        -1.64963221e+00, -1.53122602e+00, -1.85109946e+00],\n",
       "       [ 1.59202729e+00, -1.60528250e+00, -1.66636335e+00,\n",
       "        -1.64963221e+00, -1.53122602e+00, -1.92551262e+00],\n",
       "       [ 1.59202729e+00, -1.59321830e+00, -1.64394246e+00,\n",
       "        -1.63951475e+00, -1.53345939e+00, -1.93655783e+00],\n",
       "       [ 1.59202729e+00, -1.58115410e+00, -1.62152157e+00,\n",
       "        -1.61927981e+00, -1.56025978e+00, -1.78179866e+00],\n",
       "       [ 1.59202729e+00, -1.55702570e+00, -1.59910069e+00,\n",
       "        -1.60916235e+00, -1.48042281e+00, -1.86044056e+00],\n",
       "       [ 1.59202729e+00, -1.50876889e+00, -1.53183802e+00,\n",
       "        -1.57880995e+00, -1.51639176e+00, -1.86877180e+00],\n",
       "       [ 1.59202729e+00, -1.37606267e+00, -1.38610226e+00,\n",
       "        -1.43716541e+00, -1.37632442e+00, -1.35665273e+00],\n",
       "       [ 1.59202729e+00, -1.30367746e+00, -1.30762915e+00,\n",
       "        -1.33599074e+00, -1.36236000e+00, -1.47530984e+00]])"
      ]
     },
     "execution_count": 18,
     "metadata": {},
     "output_type": "execute_result"
    }
   ],
   "source": [
    "inputs_scaled = scaler.transform(inputs)\n",
    "inputs_scaled"
   ]
  },
  {
   "cell_type": "code",
   "execution_count": 19,
   "metadata": {},
   "outputs": [],
   "source": [
    "from sklearn.model_selection import train_test_split\n",
    "\n",
    "x_train, x_test, y_train, y_test = train_test_split(inputs_scaled, targets, test_size=0.1, random_state=365)"
   ]
  },
  {
   "cell_type": "code",
   "execution_count": 20,
   "metadata": {},
   "outputs": [
    {
     "data": {
      "text/plain": [
       "LinearRegression()"
      ]
     },
     "execution_count": 20,
     "metadata": {},
     "output_type": "execute_result"
    }
   ],
   "source": [
    "reg = LinearRegression()\n",
    "reg.fit(x_train,y_train)"
   ]
  },
  {
   "cell_type": "code",
   "execution_count": 21,
   "metadata": {},
   "outputs": [],
   "source": [
    "y_hat = reg.predict(x_train)"
   ]
  },
  {
   "cell_type": "code",
   "execution_count": 22,
   "metadata": {},
   "outputs": [
    {
     "data": {
      "image/png": "[encoded data removed]",
      "text/plain": [
       "<Figure size 432x288 with 1 Axes>"
      ]
     },
     "metadata": {},
     "output_type": "display_data"
    }
   ],
   "source": [
    "plt.scatter(y_train, y_hat)\n",
    "# Let's also name the axes\n",
    "plt.xlabel('Targets (y_train)',size=18)\n",
    "plt.ylabel('Predictions (y_hat)',size=18)\n",
    "plt.show()"
   ]
  },
  {
   "cell_type": "code",
   "execution_count": 23,
   "metadata": {},
   "outputs": [
    {
     "data": {
      "text/plain": [
       "0.9447581457674377"
      ]
     },
     "execution_count": 23,
     "metadata": {},
     "output_type": "execute_result"
    }
   ],
   "source": [
    "reg.score(x_test,y_test)"
   ]
  },
  {
   "cell_type": "code",
   "execution_count": 24,
   "metadata": {},
   "outputs": [
    {
     "data": {
      "text/html": [
       "<div>\n",
       "<style scoped>\n",
       "    .dataframe tbody tr th:only-of-type {\n",
       "        vertical-align: middle;\n",
       "    }\n",
       "\n",
       "    .dataframe tbody tr th {\n",
       "        vertical-align: top;\n",
       "    }\n",
       "\n",
       "    .dataframe thead th {\n",
       "        text-align: right;\n",
       "    }\n",
       "</style>\n",
       "<table border=\"1\" class=\"dataframe\">\n",
       "  <thead>\n",
       "    <tr style=\"text-align: right;\">\n",
       "      <th></th>\n",
       "      <th>Features</th>\n",
       "      <th>Weights</th>\n",
       "    </tr>\n",
       "  </thead>\n",
       "  <tbody>\n",
       "    <tr>\n",
       "      <th>0</th>\n",
       "      <td>Species</td>\n",
       "      <td>91.526952</td>\n",
       "    </tr>\n",
       "    <tr>\n",
       "      <th>1</th>\n",
       "      <td>Length1</td>\n",
       "      <td>792.287532</td>\n",
       "    </tr>\n",
       "    <tr>\n",
       "      <th>2</th>\n",
       "      <td>Length2</td>\n",
       "      <td>-1004.830187</td>\n",
       "    </tr>\n",
       "    <tr>\n",
       "      <th>3</th>\n",
       "      <td>Length3</td>\n",
       "      <td>239.563407</td>\n",
       "    </tr>\n",
       "    <tr>\n",
       "      <th>4</th>\n",
       "      <td>Height</td>\n",
       "      <td>160.323307</td>\n",
       "    </tr>\n",
       "    <tr>\n",
       "      <th>5</th>\n",
       "      <td>Width</td>\n",
       "      <td>153.878287</td>\n",
       "    </tr>\n",
       "  </tbody>\n",
       "</table>\n",
       "</div>"
      ],
      "text/plain": [
       "  Features      Weights\n",
       "0  Species    91.526952\n",
       "1  Length1   792.287532\n",
       "2  Length2 -1004.830187\n",
       "3  Length3   239.563407\n",
       "4   Height   160.323307\n",
       "5    Width   153.878287"
      ]
     },
     "execution_count": 24,
     "metadata": {},
     "output_type": "execute_result"
    }
   ],
   "source": [
    "reg_summary = pd.DataFrame(inputs.columns.values, columns=['Features'])\n",
    "reg_summary['Weights'] = reg.coef_\n",
    "reg_summary"
   ]
  },
  {
   "cell_type": "code",
   "execution_count": 25,
   "metadata": {},
   "outputs": [],
   "source": [
    "y_hat_test = reg.predict(x_test)"
   ]
  },
  {
   "cell_type": "code",
   "execution_count": 26,
   "metadata": {},
   "outputs": [
    {
     "data": {
      "image/png": "[encoded data removed]",
      "text/plain": [
       "<Figure size 432x288 with 1 Axes>"
      ]
     },
     "metadata": {},
     "output_type": "display_data"
    }
   ],
   "source": [
    "plt.scatter(y_test, y_hat_test, alpha=0.2)\n",
    "plt.xlabel('Targets (y_test)',size=18)\n",
    "plt.ylabel('Predictions (y_hat_test)',size=18)\n",
    "plt.show()"
   ]
  },
  {
   "cell_type": "code",
   "execution_count": 27,
   "metadata": {},
   "outputs": [
    {
     "data": {
      "text/html": [
       "<div>\n",
       "<style scoped>\n",
       "    .dataframe tbody tr th:only-of-type {\n",
       "        vertical-align: middle;\n",
       "    }\n",
       "\n",
       "    .dataframe tbody tr th {\n",
       "        vertical-align: top;\n",
       "    }\n",
       "\n",
       "    .dataframe thead th {\n",
       "        text-align: right;\n",
       "    }\n",
       "</style>\n",
       "<table border=\"1\" class=\"dataframe\">\n",
       "  <thead>\n",
       "    <tr style=\"text-align: right;\">\n",
       "      <th></th>\n",
       "      <th>Prediction</th>\n",
       "    </tr>\n",
       "  </thead>\n",
       "  <tbody>\n",
       "    <tr>\n",
       "      <th>0</th>\n",
       "      <td>183.858967</td>\n",
       "    </tr>\n",
       "    <tr>\n",
       "      <th>1</th>\n",
       "      <td>195.622528</td>\n",
       "    </tr>\n",
       "    <tr>\n",
       "      <th>2</th>\n",
       "      <td>484.600566</td>\n",
       "    </tr>\n",
       "    <tr>\n",
       "      <th>3</th>\n",
       "      <td>469.074446</td>\n",
       "    </tr>\n",
       "    <tr>\n",
       "      <th>4</th>\n",
       "      <td>902.519267</td>\n",
       "    </tr>\n",
       "  </tbody>\n",
       "</table>\n",
       "</div>"
      ],
      "text/plain": [
       "   Prediction\n",
       "0  183.858967\n",
       "1  195.622528\n",
       "2  484.600566\n",
       "3  469.074446\n",
       "4  902.519267"
      ]
     },
     "execution_count": 27,
     "metadata": {},
     "output_type": "execute_result"
    }
   ],
   "source": [
    "df_pf = pd.DataFrame(y_hat_test, columns=['Prediction'])\n",
    "df_pf.head()"
   ]
  },
  {
   "cell_type": "code",
   "execution_count": 28,
   "metadata": {},
   "outputs": [
    {
     "data": {
      "text/plain": [
       "0     161.0\n",
       "1     120.0\n",
       "2     500.0\n",
       "3     430.0\n",
       "4    1000.0\n",
       "Name: Weight, dtype: float64"
      ]
     },
     "execution_count": 28,
     "metadata": {},
     "output_type": "execute_result"
    }
   ],
   "source": [
    "y_test = y_test.reset_index(drop=True)\n",
    "\n",
    "# Check the result\n",
    "y_test.head()"
   ]
  },
  {
   "cell_type": "code",
   "execution_count": 29,
   "metadata": {},
   "outputs": [
    {
     "data": {
      "text/html": [
       "<div>\n",
       "<style scoped>\n",
       "    .dataframe tbody tr th:only-of-type {\n",
       "        vertical-align: middle;\n",
       "    }\n",
       "\n",
       "    .dataframe tbody tr th {\n",
       "        vertical-align: top;\n",
       "    }\n",
       "\n",
       "    .dataframe thead th {\n",
       "        text-align: right;\n",
       "    }\n",
       "</style>\n",
       "<table border=\"1\" class=\"dataframe\">\n",
       "  <thead>\n",
       "    <tr style=\"text-align: right;\">\n",
       "      <th></th>\n",
       "      <th>Prediction</th>\n",
       "      <th>Target</th>\n",
       "    </tr>\n",
       "  </thead>\n",
       "  <tbody>\n",
       "    <tr>\n",
       "      <th>0</th>\n",
       "      <td>183.858967</td>\n",
       "      <td>161.0</td>\n",
       "    </tr>\n",
       "    <tr>\n",
       "      <th>1</th>\n",
       "      <td>195.622528</td>\n",
       "      <td>120.0</td>\n",
       "    </tr>\n",
       "    <tr>\n",
       "      <th>2</th>\n",
       "      <td>484.600566</td>\n",
       "      <td>500.0</td>\n",
       "    </tr>\n",
       "    <tr>\n",
       "      <th>3</th>\n",
       "      <td>469.074446</td>\n",
       "      <td>430.0</td>\n",
       "    </tr>\n",
       "    <tr>\n",
       "      <th>4</th>\n",
       "      <td>902.519267</td>\n",
       "      <td>1000.0</td>\n",
       "    </tr>\n",
       "    <tr>\n",
       "      <th>5</th>\n",
       "      <td>654.175807</td>\n",
       "      <td>700.0</td>\n",
       "    </tr>\n",
       "    <tr>\n",
       "      <th>6</th>\n",
       "      <td>11.612728</td>\n",
       "      <td>19.7</td>\n",
       "    </tr>\n",
       "    <tr>\n",
       "      <th>7</th>\n",
       "      <td>-72.457511</td>\n",
       "      <td>32.0</td>\n",
       "    </tr>\n",
       "    <tr>\n",
       "      <th>8</th>\n",
       "      <td>275.590332</td>\n",
       "      <td>145.0</td>\n",
       "    </tr>\n",
       "    <tr>\n",
       "      <th>9</th>\n",
       "      <td>70.080764</td>\n",
       "      <td>120.0</td>\n",
       "    </tr>\n",
       "    <tr>\n",
       "      <th>10</th>\n",
       "      <td>510.462150</td>\n",
       "      <td>500.0</td>\n",
       "    </tr>\n",
       "    <tr>\n",
       "      <th>11</th>\n",
       "      <td>656.559388</td>\n",
       "      <td>556.0</td>\n",
       "    </tr>\n",
       "    <tr>\n",
       "      <th>12</th>\n",
       "      <td>275.061898</td>\n",
       "      <td>188.0</td>\n",
       "    </tr>\n",
       "    <tr>\n",
       "      <th>13</th>\n",
       "      <td>881.260975</td>\n",
       "      <td>820.0</td>\n",
       "    </tr>\n",
       "    <tr>\n",
       "      <th>14</th>\n",
       "      <td>130.749547</td>\n",
       "      <td>160.0</td>\n",
       "    </tr>\n",
       "  </tbody>\n",
       "</table>\n",
       "</div>"
      ],
      "text/plain": [
       "    Prediction  Target\n",
       "0   183.858967   161.0\n",
       "1   195.622528   120.0\n",
       "2   484.600566   500.0\n",
       "3   469.074446   430.0\n",
       "4   902.519267  1000.0\n",
       "5   654.175807   700.0\n",
       "6    11.612728    19.7\n",
       "7   -72.457511    32.0\n",
       "8   275.590332   145.0\n",
       "9    70.080764   120.0\n",
       "10  510.462150   500.0\n",
       "11  656.559388   556.0\n",
       "12  275.061898   188.0\n",
       "13  881.260975   820.0\n",
       "14  130.749547   160.0"
      ]
     },
     "execution_count": 29,
     "metadata": {},
     "output_type": "execute_result"
    }
   ],
   "source": [
    "df_pf['Target'] = y_test\n",
    "df_pf"
   ]
  },
  {
   "cell_type": "code",
   "execution_count": 30,
   "metadata": {},
   "outputs": [
    {
     "data": {
      "text/html": [
       "<div>\n",
       "<style scoped>\n",
       "    .dataframe tbody tr th:only-of-type {\n",
       "        vertical-align: middle;\n",
       "    }\n",
       "\n",
       "    .dataframe tbody tr th {\n",
       "        vertical-align: top;\n",
       "    }\n",
       "\n",
       "    .dataframe thead th {\n",
       "        text-align: right;\n",
       "    }\n",
       "</style>\n",
       "<table border=\"1\" class=\"dataframe\">\n",
       "  <thead>\n",
       "    <tr style=\"text-align: right;\">\n",
       "      <th></th>\n",
       "      <th>Prediction</th>\n",
       "      <th>Target</th>\n",
       "      <th>Residual</th>\n",
       "      <th>Difference%</th>\n",
       "    </tr>\n",
       "  </thead>\n",
       "  <tbody>\n",
       "    <tr>\n",
       "      <th>count</th>\n",
       "      <td>15.000000</td>\n",
       "      <td>15.000000</td>\n",
       "      <td>15.000000</td>\n",
       "      <td>15.000000</td>\n",
       "    </tr>\n",
       "    <tr>\n",
       "      <th>mean</th>\n",
       "      <td>375.251457</td>\n",
       "      <td>363.446667</td>\n",
       "      <td>-11.804790</td>\n",
       "      <td>46.470822</td>\n",
       "    </tr>\n",
       "    <tr>\n",
       "      <th>std</th>\n",
       "      <td>305.250078</td>\n",
       "      <td>306.260381</td>\n",
       "      <td>70.937480</td>\n",
       "      <td>81.485884</td>\n",
       "    </tr>\n",
       "    <tr>\n",
       "      <th>min</th>\n",
       "      <td>-72.457511</td>\n",
       "      <td>19.700000</td>\n",
       "      <td>-130.590332</td>\n",
       "      <td>2.092430</td>\n",
       "    </tr>\n",
       "    <tr>\n",
       "      <th>25%</th>\n",
       "      <td>157.304257</td>\n",
       "      <td>132.500000</td>\n",
       "      <td>-68.441751</td>\n",
       "      <td>8.278965</td>\n",
       "    </tr>\n",
       "    <tr>\n",
       "      <th>50%</th>\n",
       "      <td>275.590332</td>\n",
       "      <td>188.000000</td>\n",
       "      <td>-10.462150</td>\n",
       "      <td>18.086221</td>\n",
       "    </tr>\n",
       "    <tr>\n",
       "      <th>75%</th>\n",
       "      <td>582.318979</td>\n",
       "      <td>528.000000</td>\n",
       "      <td>37.537323</td>\n",
       "      <td>43.954442</td>\n",
       "    </tr>\n",
       "    <tr>\n",
       "      <th>max</th>\n",
       "      <td>902.519267</td>\n",
       "      <td>1000.000000</td>\n",
       "      <td>104.457511</td>\n",
       "      <td>326.429722</td>\n",
       "    </tr>\n",
       "  </tbody>\n",
       "</table>\n",
       "</div>"
      ],
      "text/plain": [
       "       Prediction       Target    Residual  Difference%\n",
       "count   15.000000    15.000000   15.000000    15.000000\n",
       "mean   375.251457   363.446667  -11.804790    46.470822\n",
       "std    305.250078   306.260381   70.937480    81.485884\n",
       "min    -72.457511    19.700000 -130.590332     2.092430\n",
       "25%    157.304257   132.500000  -68.441751     8.278965\n",
       "50%    275.590332   188.000000  -10.462150    18.086221\n",
       "75%    582.318979   528.000000   37.537323    43.954442\n",
       "max    902.519267  1000.000000  104.457511   326.429722"
      ]
     },
     "execution_count": 30,
     "metadata": {},
     "output_type": "execute_result"
    }
   ],
   "source": [
    "df_pf['Residual'] = df_pf['Target'] - df_pf['Prediction']\n",
    "df_pf['Difference%'] = np.absolute(df_pf['Residual']/df_pf['Target']*100)\n",
    "df_pf.describe()"
   ]
  },
  {
   "cell_type": "code",
   "execution_count": 31,
   "metadata": {},
   "outputs": [
    {
     "data": {
      "text/html": [
       "<div>\n",
       "<style scoped>\n",
       "    .dataframe tbody tr th:only-of-type {\n",
       "        vertical-align: middle;\n",
       "    }\n",
       "\n",
       "    .dataframe tbody tr th {\n",
       "        vertical-align: top;\n",
       "    }\n",
       "\n",
       "    .dataframe thead th {\n",
       "        text-align: right;\n",
       "    }\n",
       "</style>\n",
       "<table border=\"1\" class=\"dataframe\">\n",
       "  <thead>\n",
       "    <tr style=\"text-align: right;\">\n",
       "      <th></th>\n",
       "      <th>Prediction</th>\n",
       "      <th>Target</th>\n",
       "      <th>Residual</th>\n",
       "      <th>Difference%</th>\n",
       "    </tr>\n",
       "  </thead>\n",
       "  <tbody>\n",
       "    <tr>\n",
       "      <th>10</th>\n",
       "      <td>510.46</td>\n",
       "      <td>500.00</td>\n",
       "      <td>-10.46</td>\n",
       "      <td>2.09</td>\n",
       "    </tr>\n",
       "    <tr>\n",
       "      <th>2</th>\n",
       "      <td>484.60</td>\n",
       "      <td>500.00</td>\n",
       "      <td>15.40</td>\n",
       "      <td>3.08</td>\n",
       "    </tr>\n",
       "    <tr>\n",
       "      <th>5</th>\n",
       "      <td>654.18</td>\n",
       "      <td>700.00</td>\n",
       "      <td>45.82</td>\n",
       "      <td>6.55</td>\n",
       "    </tr>\n",
       "    <tr>\n",
       "      <th>13</th>\n",
       "      <td>881.26</td>\n",
       "      <td>820.00</td>\n",
       "      <td>-61.26</td>\n",
       "      <td>7.47</td>\n",
       "    </tr>\n",
       "    <tr>\n",
       "      <th>3</th>\n",
       "      <td>469.07</td>\n",
       "      <td>430.00</td>\n",
       "      <td>-39.07</td>\n",
       "      <td>9.09</td>\n",
       "    </tr>\n",
       "    <tr>\n",
       "      <th>4</th>\n",
       "      <td>902.52</td>\n",
       "      <td>1000.00</td>\n",
       "      <td>97.48</td>\n",
       "      <td>9.75</td>\n",
       "    </tr>\n",
       "    <tr>\n",
       "      <th>0</th>\n",
       "      <td>183.86</td>\n",
       "      <td>161.00</td>\n",
       "      <td>-22.86</td>\n",
       "      <td>14.20</td>\n",
       "    </tr>\n",
       "    <tr>\n",
       "      <th>11</th>\n",
       "      <td>656.56</td>\n",
       "      <td>556.00</td>\n",
       "      <td>-100.56</td>\n",
       "      <td>18.09</td>\n",
       "    </tr>\n",
       "    <tr>\n",
       "      <th>14</th>\n",
       "      <td>130.75</td>\n",
       "      <td>160.00</td>\n",
       "      <td>29.25</td>\n",
       "      <td>18.28</td>\n",
       "    </tr>\n",
       "    <tr>\n",
       "      <th>6</th>\n",
       "      <td>11.61</td>\n",
       "      <td>19.70</td>\n",
       "      <td>8.09</td>\n",
       "      <td>41.05</td>\n",
       "    </tr>\n",
       "    <tr>\n",
       "      <th>9</th>\n",
       "      <td>70.08</td>\n",
       "      <td>120.00</td>\n",
       "      <td>49.92</td>\n",
       "      <td>41.60</td>\n",
       "    </tr>\n",
       "    <tr>\n",
       "      <th>12</th>\n",
       "      <td>275.06</td>\n",
       "      <td>188.00</td>\n",
       "      <td>-87.06</td>\n",
       "      <td>46.31</td>\n",
       "    </tr>\n",
       "    <tr>\n",
       "      <th>1</th>\n",
       "      <td>195.62</td>\n",
       "      <td>120.00</td>\n",
       "      <td>-75.62</td>\n",
       "      <td>63.02</td>\n",
       "    </tr>\n",
       "    <tr>\n",
       "      <th>8</th>\n",
       "      <td>275.59</td>\n",
       "      <td>145.00</td>\n",
       "      <td>-130.59</td>\n",
       "      <td>90.06</td>\n",
       "    </tr>\n",
       "    <tr>\n",
       "      <th>7</th>\n",
       "      <td>-72.46</td>\n",
       "      <td>32.00</td>\n",
       "      <td>104.46</td>\n",
       "      <td>326.43</td>\n",
       "    </tr>\n",
       "  </tbody>\n",
       "</table>\n",
       "</div>"
      ],
      "text/plain": [
       "    Prediction  Target  Residual  Difference%\n",
       "10      510.46  500.00    -10.46         2.09\n",
       "2       484.60  500.00     15.40         3.08\n",
       "5       654.18  700.00     45.82         6.55\n",
       "13      881.26  820.00    -61.26         7.47\n",
       "3       469.07  430.00    -39.07         9.09\n",
       "4       902.52 1000.00     97.48         9.75\n",
       "0       183.86  161.00    -22.86        14.20\n",
       "11      656.56  556.00   -100.56        18.09\n",
       "14      130.75  160.00     29.25        18.28\n",
       "6        11.61   19.70      8.09        41.05\n",
       "9        70.08  120.00     49.92        41.60\n",
       "12      275.06  188.00    -87.06        46.31\n",
       "1       195.62  120.00    -75.62        63.02\n",
       "8       275.59  145.00   -130.59        90.06\n",
       "7       -72.46   32.00    104.46       326.43"
      ]
     },
     "execution_count": 31,
     "metadata": {},
     "output_type": "execute_result"
    }
   ],
   "source": [
    "pd.options.display.max_rows = 999\n",
    "# Display the result with only 2 digits after the dot \n",
    "pd.set_option('display.float_format', lambda x: '%.2f' % x)\n",
    "# Sort by difference in % and manually check the model\n",
    "df_pf.sort_values(by=['Difference%'])"
   ]
  },
  {
   "cell_type": "code",
   "execution_count": 33,
   "metadata": {},
   "outputs": [
    {
     "data": {
      "text/plain": [
       "Species     0.00\n",
       "Weight    242.00\n",
       "Length1    23.20\n",
       "Length2    25.40\n",
       "Length3    30.00\n",
       "Height     11.52\n",
       "Width       4.02\n",
       "Name: 0, dtype: float64"
      ]
     },
     "execution_count": 33,
     "metadata": {},
     "output_type": "execute_result"
    }
   ],
   "source": [
    "def fishdata(x):\n",
    "    return raw_data.loc[x,:]\n",
    "x = fishdata(0)\n",
    "x"
   ]
  },
  {
   "cell_type": "code",
   "execution_count": null,
   "metadata": {},
   "outputs": [],
   "source": []
  }
 ],
 "metadata": {
  "kernelspec": {
   "display_name": "Python 3",
   "language": "python",
   "name": "python3"
  },
  "language_info": {
   "codemirror_mode": {
    "name": "ipython",
    "version": 3
   },
   "file_extension": ".py",
   "mimetype": "text/x-python",
   "name": "python",
   "nbconvert_exporter": "python",
   "pygments_lexer": "ipython3",
   "version": "3.7.3"
  }
 },
 "nbformat": 4,
 "nbformat_minor": 4
}
